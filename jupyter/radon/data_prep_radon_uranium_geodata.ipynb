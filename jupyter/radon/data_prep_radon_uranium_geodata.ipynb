{
 "cells": [
  {
   "cell_type": "markdown",
   "id": "5357dbf6",
   "metadata": {
    "toc": true
   },
   "source": [
    "<h1>Table of Contents<span class=\"tocSkip\"></span></h1>\n",
    "<div class=\"toc\"><ul class=\"toc-item\"><li><span><a href=\"#Notebook-setup\" data-toc-modified-id=\"Notebook-setup-1\">Notebook setup</a></span></li><li><span><a href=\"#State/EPA-Residiental-Survey-(SRRS)-datasets\" data-toc-modified-id=\"State/EPA-Residiental-Survey-(SRRS)-datasets-2\">State/EPA Residiental Survey (SRRS) datasets</a></span></li></ul></div>"
   ]
  },
  {
   "cell_type": "markdown",
   "id": "06819c51-5a2c-4c93-a38f-65090a52766a",
   "metadata": {},
   "source": [
    "### Notebook setup"
   ]
  },
  {
   "cell_type": "code",
   "execution_count": null,
   "id": "2fe0ea6e",
   "metadata": {
    "tags": []
   },
   "outputs": [],
   "source": [
    "# import all libraries used in this notebook\n",
    "import os\n",
    "import numpy as np\n",
    "import pandas as pd\n",
    "from cmdstanpy import CmdStanModel\n",
    "\n",
    "# plotting libs\n",
    "import matplotlib.pyplot as plt\n",
    "import plotnine as p9\n",
    "\n",
    "# suppress plotnine warnings\n",
    "import warnings\n",
    "warnings.filterwarnings('ignore')\n",
    "\n",
    "# setup plotnine look and feel\n",
    "p9.theme_set(\n",
    "  p9.theme_grey() + \n",
    "  p9.theme(text=p9.element_text(size=10),\n",
    "        plot_title=p9.element_text(size=14),\n",
    "        axis_title_x=p9.element_text(size=12),\n",
    "        axis_title_y=p9.element_text(size=12),\n",
    "        axis_text_x=p9.element_text(size=8),\n",
    "        axis_text_y=p9.element_text(size=8)\n",
    "       )\n",
    ")\n",
    "xlabels_90 = p9.theme(axis_text_x = p9.element_text(angle=90, hjust=1))"
   ]
  },
  {
   "cell_type": "code",
   "execution_count": null,
   "id": "2534095e",
   "metadata": {},
   "outputs": [],
   "source": [
    "# keep notebook outputs clean - demos only\n",
    "import logging\n",
    "logging.getLogger('cmdstanpy').setLevel(logging.CRITICAL)"
   ]
  },
  {
   "cell_type": "markdown",
   "id": "44fef876-55c5-4dc5-b383-da2b6a658806",
   "metadata": {},
   "source": [
    "**Best Practice:  avoid meaningless precision**\n",
    "\n",
    "The precision of an estimate is inversely proportional to square root of the amount of data.\n",
    "For the Minnesota data, only 2 decimal places is warrented.\n",
    "To change the default print behavoir for pandas DataFrames, we use the pandas global option [display.precision](https://pandas.pydata.org/docs/user_guide/options.html#frequently-used-options)."
   ]
  },
  {
   "cell_type": "code",
   "execution_count": null,
   "id": "b18d5ef6-988e-4686-b9b9-7ce921e9084f",
   "metadata": {
    "tags": []
   },
   "outputs": [],
   "source": [
    "pd.set_option('display.precision', 2)"
   ]
  },
  {
   "cell_type": "markdown",
   "id": "4d7d4e50",
   "metadata": {},
   "source": [
    "### State/EPA Residiental Survey (SRRS) datasets\n",
    "\n",
    "The rawest form of the radon data was collected and archived by Phil Price and is available here:\n",
    "http://www.stat.columbia.edu/~gelman/arm/examples/radon_complete\n",
    "\n",
    "\n",
    "* The documentation is in file http://www.stat.columbia.edu/~gelman/arm/examples/radon_complete/SRRSdoc.pdf\n",
    "\n",
    "* There are 5 files, srrs1.dat through srrs5.dat  - but data is duplicated between them.\n",
    "\n",
    "* This directory also contains data from both national survey - NRRS - and state surveys - cf. https://link.springer.com/article/10.1007/BF02034901.   This is in a different format and is\n",
    "not used in Gelman and Hill analysis.\n",
    "\n",
    "* README notes that files are old backups, things may be missing.\n",
    "\n",
    "Indian reservations vs. stolen lands:\n",
    "the state/EPA survey contains data from Indian lands.  column 'STATE' code R5, R6, R7, RB, RC, RN.\n",
    "EPA regions cross state boundaries; Indian lands cross county boundaries, e.g.\n",
    "EPA region 5 covers Indian lands in MN, WI, and MI: https://www.epa.gov/sites/default/files/2015-08/documents/r5-tribal-land-map.pdf\n",
    "\n",
    "Given this, we have two files:\n",
    "\n",
    "* 59,396 radon_us.csv \n",
    "* 3,897 radon_indg.csv\n",
    "\n",
    "If floor is unknown, coded as '9'"
   ]
  },
  {
   "cell_type": "markdown",
   "id": "b4525eec-b6ad-434e-9c93-d3041343644a",
   "metadata": {},
   "source": [
    "## Align, combine, subset EPA radon, uranium data and US Census GIS data"
   ]
  },
  {
   "cell_type": "code",
   "execution_count": null,
   "id": "2c67d0f1",
   "metadata": {},
   "outputs": [],
   "source": [
    "us_radon = pd.read_csv(os.path.join('data','radon_us.csv'),\n",
    "                     usecols=['state', 'stfips', 'floor', 'activity', 'county', 'cntyfips'],\n",
    "                     skipinitialspace=True,    # CSV file has spaces after delimiter, ignore them\n",
    "    ).convert_dtypes()\n",
    "print(us_radon.shape)\n",
    "us_radon[:3]"
   ]
  },
  {
   "cell_type": "markdown",
   "id": "3c89b204",
   "metadata": {},
   "source": [
    "**datacleanup**\n",
    "\n",
    "Colorado and CT have data with cntyfips codes '0' and '999'.   Dropping for now."
   ]
  },
  {
   "cell_type": "code",
   "execution_count": null,
   "id": "d62fa643",
   "metadata": {},
   "outputs": [],
   "source": [
    "us_radon.drop(us_radon[us_radon.cntyfips==0].index, inplace=True)\n",
    "us_radon.drop(us_radon[us_radon.cntyfips==999].index, inplace=True)\n",
    "print(us_radon.shape)"
   ]
  },
  {
   "cell_type": "markdown",
   "id": "e78557c8-db6a-4bbd-a6a4-071e9d013ec8",
   "metadata": {},
   "source": [
    "### US county soil uranium levels\n",
    "\n",
    "Also distributed from Gelman website."
   ]
  },
  {
   "cell_type": "code",
   "execution_count": null,
   "id": "c7cdc9bd",
   "metadata": {},
   "outputs": [],
   "source": [
    "us_uranium = pd.read_csv(os.path.join('data','raw_uranium.csv'),\n",
    "                        usecols=['stfips', 'ctfips', 'st', 'cty', 'Uppm'],\n",
    "                        skipinitialspace=True,\n",
    "                        ).drop_duplicates().convert_dtypes()\n",
    "us_uranium.head(3)"
   ]
  },
  {
   "cell_type": "markdown",
   "id": "bc3798cf-5e30-4531-afad-d348fc5b1449",
   "metadata": {},
   "source": [
    "### US census county boundaries GIS files"
   ]
  },
  {
   "cell_type": "code",
   "execution_count": null,
   "id": "4f07daae-74a1-431a-8255-04bd1f29670d",
   "metadata": {},
   "outputs": [],
   "source": [
    "# gis data\n",
    "import geopandas as gpd\n",
    "import libpysal as sa"
   ]
  },
  {
   "cell_type": "code",
   "execution_count": null,
   "id": "c4a373e8-e4e6-4c30-a9b3-a048dcb0db28",
   "metadata": {},
   "outputs": [],
   "source": [
    "shpfile = os.path.join('geo_data','cb_2018_us_county_20m', 'cb_2018_us_county_20m.shp')\n",
    "us_geodata = gpd.read_file(shpfile)\n",
    "print(type(us_geodata))\n",
    "us_geodata.head(3)"
   ]
  },
  {
   "cell_type": "markdown",
   "id": "93402d8a-4b4d-4e92-bd69-6fa008045cc3",
   "metadata": {},
   "source": [
    "### Join and merge tables using US FIPS codes\n",
    "\n",
    "To join or merge tables, we need to create a common key in both, then\n",
    "use the [DataFrame.merge](https://pandas.pydata.org/docs/reference/api/pandas.DataFrame.merge.html) method.\n",
    "\n",
    "\n",
    "[FIPS code](https://transition.fcc.gov/oet/info/maps/census/fips/fips.txt) are numbers which uniquely identify geographic areas. \n",
    "The US census datasets have \"GEOID\" code, the first 2 digits of which are the state FIPS code, the last 3 are the county-level FIPS code.\n",
    "The other datasets have separate columns for stats and county codes."
   ]
  },
  {
   "cell_type": "code",
   "execution_count": null,
   "id": "2d1b1b7c-60ee-4d1e-a27e-39bb00bda1cd",
   "metadata": {},
   "outputs": [],
   "source": [
    "# drop data on ALASKA ('02'), HAWAII ('15'), PR ('72'), USVI ('78')\n",
    "islands = ['02', '15', '72', '78']\n",
    "us_geodata = us_geodata[~us_geodata.STATEFP.isin(islands)]\n",
    "# statefips are ints in other tables\n",
    "islands = [2, 15, 72, 78]\n",
    "us_radon = us_radon[~us_radon.stfips.isin(islands)]\n",
    "us_uranium = us_uranium[~us_uranium.stfips.isin(islands)]"
   ]
  },
  {
   "cell_type": "code",
   "execution_count": null,
   "id": "41668fc1-a0c9-41a0-9ae7-9b44cb4127dc",
   "metadata": {},
   "outputs": [],
   "source": [
    "# create merge column\n",
    "us_uranium['FIPS'] = us_uranium.stfips*1000 + us_uranium.ctfips\n",
    "us_radon['FIPS'] = us_radon.stfips*1000 + us_radon.cntyfips"
   ]
  },
  {
   "cell_type": "markdown",
   "id": "f6dfecc9-2b3f-4ebb-9079-40cdceac505c",
   "metadata": {},
   "source": [
    "#### Add soil uranium 'Uppm' to GeoPandasDataFrame"
   ]
  },
  {
   "cell_type": "code",
   "execution_count": null,
   "id": "46a70c5e-d4ae-448a-bbd0-2a12606208e6",
   "metadata": {},
   "outputs": [],
   "source": [
    "# GEOID should be numeric\n",
    "us_geodata = us_geodata.astype({'GEOID': 'int32'}, copy=False)\n",
    "\n",
    "# left join because Uranium dataset is missing one record\n",
    "us_geodata = us_geodata.merge(us_uranium, how='left', left_on='GEOID', right_on='FIPS')\n",
    "\n",
    "# cleanup missing value so that we can use column as fill value\n",
    "us_geodata = us_geodata.astype({'Uppm': 'float64'})\n",
    "us_geodata.Uppm.fillna(value=0, inplace=True)\n",
    "\n",
    "# drop columns for cleaner display\n",
    "us_geodata.drop(columns=['STATEFP','COUNTYFP', 'COUNTYNS', 'AFFGEOID', 'LSAD', 'ALAND', 'AWATER',\n",
    "                       'stfips', 'ctfips', 'cty', 'FIPS'], inplace=True)\n",
    "us_geodata.rename(columns={'st':'STATE','NAME': 'county'}, inplace=True)"
   ]
  },
  {
   "cell_type": "code",
   "execution_count": null,
   "id": "31320105-d1d6-4dae-8590-93cc6af1d368",
   "metadata": {},
   "outputs": [],
   "source": [
    "us_geodata.head(3)"
   ]
  },
  {
   "cell_type": "markdown",
   "id": "18b9ab87",
   "metadata": {},
   "source": [
    "#### Add soil uranium to radon data"
   ]
  },
  {
   "cell_type": "code",
   "execution_count": null,
   "id": "2624de6e-b5f8-4cf6-ade3-8245bbb400dd",
   "metadata": {},
   "outputs": [],
   "source": [
    "us_radon.head(3)"
   ]
  },
  {
   "cell_type": "code",
   "execution_count": null,
   "id": "b7b52ebc-2129-4c5a-956f-8d30f7b1b1fb",
   "metadata": {},
   "outputs": [],
   "source": [
    "us_radon = us_radon.merge(us_geodata[['GEOID', 'Uppm', 'county']], left_on='FIPS', right_on='GEOID')\n",
    "us_radon.head(3)"
   ]
  },
  {
   "cell_type": "markdown",
   "id": "7e289b65",
   "metadata": {},
   "source": [
    "**Cleanup**\n",
    "\n",
    "Remove the columns which contain redundant information."
   ]
  },
  {
   "cell_type": "code",
   "execution_count": null,
   "id": "c86f3887-397c-4c0d-9302-e5055382c94e",
   "metadata": {},
   "outputs": [],
   "source": [
    "us_radon.drop(columns=['stfips', 'cntyfips', 'county_x', 'FIPS'], inplace=True)\n",
    "us_radon.rename(columns={'county_y':'county'}, inplace=True)\n",
    "us_radon.head(3)"
   ]
  },
  {
   "cell_type": "markdown",
   "id": "5b137c20",
   "metadata": {},
   "source": [
    "**Restrict dataset to Minnesota**\n",
    "\n",
    "In order to work with just the data from Minnesota, we use a \n",
    "use a conditional expression to [filter specific rows of a dataframe](https://pandas.pydata.org/docs/getting_started/intro_tutorials/03_subset_data.html#how-do-i-filter-specific-rows-from-a-dataframe), combined with operation [reset_index(drop=True)](https://pandas.pydata.org/docs/reference/api/pandas.DataFrame.reset_index.html?highlight=reset_index#pandas.DataFrame.reset_index) so that the rows are indexed starting from 0."
   ]
  },
  {
   "cell_type": "code",
   "execution_count": null,
   "id": "e5df7c39",
   "metadata": {},
   "outputs": [],
   "source": [
    "mn_radon = us_radon[us_radon['state']=='MN'].reset_index(drop=True)\n",
    "mn_radon.drop(columns=['state'], inplace=True)\n",
    "mn_radon.head(3)"
   ]
  },
  {
   "cell_type": "markdown",
   "id": "c3a1505f",
   "metadata": {},
   "source": [
    "**Put data on log scale**\n",
    "\n",
    "Following Gelman and Hill chapter 4, section 4, we work with data on the log scale,\n",
    "for two reasons\n",
    "\n",
    "+ the outcome variable log_radon is always positive.\n",
    "+ it provides modeling flexibility.\n",
    "\n",
    "We know from geology that both radon measurements and soil uranium levels are always greater than zero,\n",
    "however a few radon measurements in the EPA dataset are 0.\n",
    "In order to be able to work with these measurements on the log scale, we replace 0 with 0.1,\n",
    "which corresponds to a low radon level (following Gelman and Hill)."
   ]
  },
  {
   "cell_type": "code",
   "execution_count": null,
   "id": "2a1284e8",
   "metadata": {
    "tags": []
   },
   "outputs": [],
   "source": [
    "mn_radon['radon'] = mn_radon.activity.apply(lambda x: x if x > 0. else 0.1)\n",
    "mn_radon['log_radon'] = np.log(mn_radon['radon'])\n",
    "\n",
    "mn_radon['uranium'] = mn_radon.Uppm.apply(lambda x: x if x > 0. else 0.1)\n",
    "mn_radon['log_uranium'] = np.log(mn_radon['uranium'])\n",
    "\n",
    "mn_radon.drop(columns=['activity'], inplace=True)\n",
    "mn_radon.head(3)"
   ]
  },
  {
   "cell_type": "markdown",
   "id": "c4c5f573-e008-4aa4-bd15-74603df7edec",
   "metadata": {},
   "source": [
    "#### Unique county ids based on *all* counties in MN\n",
    "\n",
    "(we know dataset is missing 2 counties - possibly indian reservations?)"
   ]
  },
  {
   "cell_type": "code",
   "execution_count": null,
   "id": "bf4fb4b7-e60e-45ff-9d0b-b82202b521c9",
   "metadata": {},
   "outputs": [],
   "source": [
    "us_geodata.head(3)"
   ]
  },
  {
   "cell_type": "code",
   "execution_count": null,
   "id": "96c867bb-1cdf-43af-b071-ebc7e649c9c0",
   "metadata": {},
   "outputs": [],
   "source": [
    "mn_geodata = us_geodata[us_geodata.STATE == 'MN'].reset_index(drop=True).reset_index()\n",
    "mn_geodata['index'] = mn_geodata['index'] + 1\n",
    "mn_geodata.rename(columns={'index':'county_id'}, inplace=True)\n",
    "mn_geodata.head(3)"
   ]
  },
  {
   "cell_type": "markdown",
   "id": "f4c40924",
   "metadata": {
    "tags": []
   },
   "source": [
    "**Create auxiliary dataset of per-county information**\n",
    "\n",
    "County-level information includes the number of observations taken in that county as well as the soil uranium level.\n",
    "In order to easily visualize this information using plotnine, we create a secondary pandas.Dataframe object with per-county level information.\n",
    "\n",
    "The [value_counts](https://pandas.pydata.org/docs/reference/api/pandas.DataFrame.value_counts.html) method returns a Series containing counts of unique values,\n",
    "We add these to the county-level dataframe."
   ]
  },
  {
   "cell_type": "code",
   "execution_count": null,
   "id": "8923a462-bd7c-4eb5-ac89-7791b6f370d3",
   "metadata": {},
   "outputs": [],
   "source": [
    "mn_radon = mn_radon.merge(mn_geodata[['county', 'county_id']], on='county')\n",
    "homes = mn_radon.value_counts(subset='county', sort=False).to_frame(name='homes').reset_index()\n",
    "mn_geodata = mn_geodata.merge(homes, how='left', on='county')\n",
    "mn_geodata.homes.fillna(0, inplace=True)\n"
   ]
  },
  {
   "cell_type": "markdown",
   "id": "394c9602",
   "metadata": {},
   "source": [
    "**Save as CSV files**\n",
    "\n",
    "These files are already part of this notebook, therefore calls to the  [pandas.to_csv](https://pandas.pydata.org/docs/reference/api/pandas.DataFrame.to_csv.html?highlight=to_csv#pandas.DataFrame.to_csv) method have been commented out."
   ]
  },
  {
   "cell_type": "code",
   "execution_count": null,
   "id": "c57e4f6f-f730-4402-9c97-cf3a0cd05d37",
   "metadata": {},
   "outputs": [],
   "source": [
    "mn_geodata.head(3)"
   ]
  },
  {
   "cell_type": "code",
   "execution_count": null,
   "id": "48d80e3d-ab12-495f-a3d0-a95b8e9c7ccf",
   "metadata": {},
   "outputs": [],
   "source": [
    "mn_radon.head(3)"
   ]
  },
  {
   "cell_type": "code",
   "execution_count": null,
   "id": "b04aea68",
   "metadata": {},
   "outputs": [],
   "source": [
    "# uncomment as needed\n",
    "mn_radon.to_csv(os.path.join('data', 'mn_radon.csv'), index=False)\n",
    "mn_geodata.to_csv(os.path.join('data', 'mn_geodata.csv'), index=False)"
   ]
  },
  {
   "cell_type": "code",
   "execution_count": null,
   "id": "77a7d6fa-0b26-4c7b-8e8c-e0e15cf05389",
   "metadata": {},
   "outputs": [],
   "source": []
  }
 ],
 "metadata": {
  "hide_input": false,
  "kernelspec": {
   "display_name": "Python 3",
   "language": "python",
   "name": "python3"
  },
  "language_info": {
   "codemirror_mode": {
    "name": "ipython",
    "version": 3
   },
   "file_extension": ".py",
   "mimetype": "text/x-python",
   "name": "python",
   "nbconvert_exporter": "python",
   "pygments_lexer": "ipython3",
   "version": "3.9.13"
  },
  "toc": {
   "base_numbering": 1,
   "nav_menu": {},
   "number_sections": false,
   "sideBar": true,
   "skip_h1_title": true,
   "title_cell": "Table of Contents",
   "title_sidebar": "Contents",
   "toc_cell": true,
   "toc_position": {},
   "toc_section_display": true,
   "toc_window_display": false
  }
 },
 "nbformat": 4,
 "nbformat_minor": 5
}
